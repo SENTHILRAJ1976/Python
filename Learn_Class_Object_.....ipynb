{
 "cells": [
  {
   "cell_type": "code",
   "execution_count": 16,
   "metadata": {},
   "outputs": [],
   "source": [
    "# Demo 01\n",
    "\n",
    "class testleaf:\n",
    "    # variable, Methods and Constructor\n",
    "    \n",
    "    # methods\n",
    "    def python(self):\n",
    "        print(\"for DS\")\n",
    "        \n",
    "        \n",
    "    def devOps(self):\n",
    "        print(\"for infra\")"
   ]
  },
  {
   "cell_type": "code",
   "execution_count": 23,
   "metadata": {},
   "outputs": [
    {
     "name": "stdout",
     "output_type": "stream",
     "text": [
      "<__main__.testleaf object at 0x7fae0b75bb10>\n",
      "for DS\n"
     ]
    }
   ],
   "source": [
    "# syntax for create obj\n",
    "\n",
    "per1 = testleaf()\n",
    "print(per1)\n",
    "\n",
    "per1.python()        #instance methods"
   ]
  },
  {
   "cell_type": "code",
   "execution_count": 24,
   "metadata": {},
   "outputs": [
    {
     "name": "stdout",
     "output_type": "stream",
     "text": [
      "<__main__.testleaf object at 0x7fae0b75bd50>\n",
      "for infra\n"
     ]
    }
   ],
   "source": [
    "per2 = testleaf()\n",
    "print(per2)\n",
    "per2.devOps()"
   ]
  },
  {
   "cell_type": "code",
   "execution_count": 25,
   "metadata": {},
   "outputs": [],
   "source": [
    "# Constructors:- \n",
    "\n",
    "\n",
    "class testleaf:\n",
    "    \n",
    "    def __init__(self)\n",
    "    \n",
    "   \n",
    "    def python(self):\n",
    "        print(\"for DS\")\n",
    "        \n",
    "        \n",
    "    def devOps(self):\n",
    "        print(\"for infra\")"
   ]
  },
  {
   "cell_type": "code",
   "execution_count": 26,
   "metadata": {},
   "outputs": [],
   "source": [
    "per1 = testleaf()"
   ]
  }
 ],
 "metadata": {
  "kernelspec": {
   "display_name": "Python 3",
   "language": "python",
   "name": "python3"
  },
  "language_info": {
   "codemirror_mode": {
    "name": "ipython",
    "version": 3
   },
   "file_extension": ".py",
   "mimetype": "text/x-python",
   "name": "python",
   "nbconvert_exporter": "python",
   "pygments_lexer": "ipython3",
   "version": "3.7.6"
  }
 },
 "nbformat": 4,
 "nbformat_minor": 4
}
