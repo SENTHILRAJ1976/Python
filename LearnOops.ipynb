{
 "cells": [
  {
   "cell_type": "markdown",
   "metadata": {},
   "source": [
    "# Object Oriented Programming in Python\n",
    "1. Classes\n",
    "2. Instances, Instance methods, Instance attributes\n",
    "3. Class attributes\n",
    "4. The init constructor\n",
    "5. Inheritance (Inheriting {attributes,methods,constructors etc..})\n",
    "6. Encapsulation\n",
    "7. Polymorphism\n",
    "8. Instance methods\n",
    "9. Multiple Inheritance and method/attribute lookup\n",
    "10. Method Resolution Order (MRO)\n",
    "11. Static methods\n",
    "12. Class methods"
   ]
  },
  {
   "cell_type": "markdown",
   "metadata": {},
   "source": [
    "## Class & Object:-\n",
    "\n",
    ">  **Class**: A Class is user defined template which contains **variables, constants and methods** etc.\n",
    "\n",
    ">  **Object**: Object is an instance of the class.In simple words, a class contains the structure of the code, whereas \n",
    "    the object of the class uses that structure for performing various tasks\n",
    "    "
   ]
  },
  {
   "cell_type": "code",
   "execution_count": 1,
   "metadata": {},
   "outputs": [
    {
     "name": "stdout",
     "output_type": "stream",
     "text": [
      "<__main__.testleaf object at 0x06C02350>\n",
      "<__main__.testleaf object at 0x06C02390>\n"
     ]
    }
   ],
   "source": [
    "#Demo 1:- \n",
    "class testleaf:\n",
    "    pass\n",
    "\n",
    "per1 = testleaf()\n",
    "print(per1)\n",
    "\n",
    "per2 = testleaf()\n",
    "print(per2)"
   ]
  },
  {
   "cell_type": "code",
   "execution_count": 1,
   "metadata": {},
   "outputs": [
    {
     "name": "stdout",
     "output_type": "stream",
     "text": [
      "<__main__.testleaf object at 0x000001AF13478F60>\n",
      "<__main__.testleaf object at 0x000001AF13478F60>\n",
      "Python\n"
     ]
    }
   ],
   "source": [
    "#Demo 2:-  with method\n",
    "class testleaf:\n",
    "    \n",
    "    def python(self, X = 5000):   \n",
    "        print(self)\n",
    "        print(\"Python\")\n",
    "        \n",
    "        \n",
    "per1 = testleaf();                             # Instance Methods\n",
    "per1.python(100)\n",
    "\n",
    "per2 = testleaf();                             # Instance Methods\n",
    "per2.python()\n",
    "\n",
    "per1.python()\n",
    "#testleaf.python()"
   ]
  },
  {
   "cell_type": "code",
   "execution_count": 4,
   "metadata": {},
   "outputs": [
    {
     "name": "stdout",
     "output_type": "stream",
     "text": [
      "Person1   Python   4+\n",
      "More details of Students\n"
     ]
    }
   ],
   "source": [
    "# Demo 3:- methods with no. of argument \n",
    "\n",
    "class testleaf:\n",
    "    \n",
    "    def students(self, name, course, exp):\n",
    "        print(name, \" \", course, \" \", exp )\n",
    "        \n",
    "    def moreDetails(self):\n",
    "        print(\"More details of Students\")\n",
    "        \n",
    "x = testleaf()\n",
    "\n",
    "x.students(\"Person1\", \"Python\", \"4+\")\n",
    "x.moreDetails()\n"
   ]
  },
  {
   "cell_type": "markdown",
   "metadata": {},
   "source": [
    "# '__init__' constructor.py\n",
    "> __init__() is a constructor method which helps to set initial values while instatiating a class. __init__() will get called with the attributes set in __init__() when a class is instantiated. The '__' before and after the method name denotes that method is private. It's called private or magic methods. since it's called internally and automatically."
   ]
  },
  {
   "cell_type": "code",
   "execution_count": 2,
   "metadata": {},
   "outputs": [
    {
     "name": "stdout",
     "output_type": "stream",
     "text": [
      "__init__\n"
     ]
    },
    {
     "data": {
      "text/plain": [
       "'----> Python---->Yes'"
      ]
     },
     "execution_count": 2,
     "metadata": {},
     "output_type": "execute_result"
    }
   ],
   "source": [
    "#Demo 4:-  with __init__\n",
    "\n",
    "class testleaf:\n",
    "    \n",
    "    def __init__(self, name):\n",
    "        self.name = name\n",
    "        self.course = \"Python\"\n",
    "        self.exp = \"Yes\"\n",
    "        print('__init__')\n",
    "      \n",
    "    def python(self):\n",
    "        return f'{self.name}----> {self.course}---->{self.exp}'       \n",
    "    \n",
    "    def webservice(self):\n",
    "        pass\n",
    "        \n",
    "#Per1 -> Python\n",
    "per1 = testleaf('Babu') \n",
    "per1.course = \"Python\"\n",
    "per1.python()\n"
   ]
  },
  {
   "cell_type": "code",
   "execution_count": null,
   "metadata": {},
   "outputs": [],
   "source": [
    "x."
   ]
  }
 ],
 "metadata": {
  "kernelspec": {
   "display_name": "Python 3",
   "language": "python",
   "name": "python3"
  },
  "language_info": {
   "codemirror_mode": {
    "name": "ipython",
    "version": 3
   },
   "file_extension": ".py",
   "mimetype": "text/x-python",
   "name": "python",
   "nbconvert_exporter": "python",
   "pygments_lexer": "ipython3",
   "version": "3.7.6"
  }
 },
 "nbformat": 4,
 "nbformat_minor": 2
}
